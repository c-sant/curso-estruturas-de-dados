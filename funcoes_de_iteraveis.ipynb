{
 "cells": [
  {
   "cell_type": "markdown",
   "metadata": {},
   "source": [
    "## Funções de iteráveis"
   ]
  },
  {
   "cell_type": "markdown",
   "metadata": {},
   "source": [
    "### Map: aplica uma função a todos os itens do iterável"
   ]
  },
  {
   "cell_type": "code",
   "execution_count": null,
   "metadata": {},
   "outputs": [],
   "source": [
    "def elevar_ao_quadrado(n):\n",
    "    return n * n\n",
    "\n",
    "numeros = [1, 2, 3, 4]\n",
    "\n",
    "novos_numeros = map(elevar_ao_quadrado, numeros)\n",
    "list(novos_numeros)"
   ]
  },
  {
   "cell_type": "markdown",
   "metadata": {},
   "source": [
    "### Filter: remove itens que não atendam a uma condição"
   ]
  },
  {
   "cell_type": "code",
   "execution_count": null,
   "metadata": {},
   "outputs": [],
   "source": [
    "def numero_menor_que_10(n):\n",
    "    return n > 10\n",
    "\n",
    "numeros = [1, 12, 5, 9, 24]\n",
    "\n",
    "novos_numeros = filter(numero_menor_que_10, numeros)\n",
    "list(novos_numeros)"
   ]
  },
  {
   "cell_type": "markdown",
   "metadata": {},
   "source": [
    "### Max e min: determina maior e menor valor dentro de uma coleção"
   ]
  },
  {
   "cell_type": "code",
   "execution_count": null,
   "metadata": {},
   "outputs": [],
   "source": [
    "numeros = [4, 8, 3, 11, 15]\n",
    "\n",
    "menor_numero = min(numeros)\n",
    "maior_numero = max(numeros)\n",
    "\n",
    "print(f\"Menor número: {menor_numero}\")\n",
    "print(f\"Maior número: {maior_numero}\")"
   ]
  },
  {
   "cell_type": "markdown",
   "metadata": {},
   "source": [
    "### Sum: soma todos os valores"
   ]
  },
  {
   "cell_type": "code",
   "execution_count": null,
   "metadata": {},
   "outputs": [],
   "source": [
    "numeros = [1, 2, 3]\n",
    "\n",
    "total = sum(numeros)\n",
    "\n",
    "print(f\"Total: {total}\")"
   ]
  }
 ],
 "metadata": {
  "language_info": {
   "name": "python"
  },
  "orig_nbformat": 4
 },
 "nbformat": 4,
 "nbformat_minor": 2
}
