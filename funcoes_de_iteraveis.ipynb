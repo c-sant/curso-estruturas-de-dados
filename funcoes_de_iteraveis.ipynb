{
 "cells": [
  {
   "cell_type": "markdown",
   "metadata": {},
   "source": [
    "## Funções de iteráveis"
   ]
  },
  {
   "cell_type": "markdown",
   "metadata": {},
   "source": [
    "### Map: aplica uma função a todos os itens do iterável"
   ]
  },
  {
   "cell_type": "code",
   "execution_count": null,
   "metadata": {},
   "outputs": [],
   "source": [
    "def elevar_ao_quadrado(n):\n",
    "    return n * n\n",
    "\n",
    "numeros = [1, 2, 3, 4]\n",
    "\n",
    "novos_numeros = map(elevar_ao_quadrado, numeros)\n",
    "list(novos_numeros)"
   ]
  },
  {
   "cell_type": "markdown",
   "metadata": {},
   "source": [
    "### Filter: remove itens que não atendam a uma condição"
   ]
  },
  {
   "cell_type": "code",
   "execution_count": null,
   "metadata": {},
   "outputs": [],
   "source": [
    "def numero_menor_que_10(n):\n",
    "    return n > 10\n",
    "\n",
    "numeros = [1, 12, 5, 9, 24]\n",
    "\n",
    "novos_numeros = filter(numero_menor_que_10, numeros)\n",
    "list(novos_numeros)"
   ]
  },
  {
   "cell_type": "markdown",
   "metadata": {},
   "source": [
    "### Max e min: determina maior e menor valor dentro de uma coleção"
   ]
  },
  {
   "cell_type": "code",
   "execution_count": null,
   "metadata": {},
   "outputs": [],
   "source": [
    "numeros = [4, 8, 3, 11, 15]\n",
    "\n",
    "menor_numero = min(numeros)\n",
    "maior_numero = max(numeros)\n",
    "\n",
    "print(f\"Menor número: {menor_numero}\")\n",
    "print(f\"Maior número: {maior_numero}\")"
   ]
  },
  {
   "cell_type": "markdown",
   "metadata": {},
   "source": [
    "### Sum: soma todos os valores"
   ]
  },
  {
   "cell_type": "code",
   "execution_count": null,
   "metadata": {},
   "outputs": [],
   "source": [
    "numeros = [1, 2, 3]\n",
    "\n",
    "total = sum(numeros)\n",
    "\n",
    "print(f\"Total: {total}\")"
   ]
  },
  {
   "cell_type": "markdown",
   "metadata": {},
   "source": [
    "### Truques de indexação: valores negativos"
   ]
  },
  {
   "cell_type": "code",
   "execution_count": null,
   "metadata": {},
   "outputs": [],
   "source": [
    "numeros = [1, 2, 3, 4, 5, 6, 7, 8, 9]\n",
    "\n",
    "# índices negativos \"dão a volta\" e pegam os últimos itens do iterável\n",
    "# é como se ele pegasse os itens em uma ordem invertida\n",
    "\n",
    "print(numeros[-1]) \n",
    "print(numeros[-2])\n",
    "print(numeros[-3])"
   ]
  },
  {
   "cell_type": "markdown",
   "metadata": {},
   "source": [
    "### Truques de indexação: slicing e step"
   ]
  },
  {
   "cell_type": "code",
   "execution_count": null,
   "metadata": {},
   "outputs": [],
   "source": [
    "# o símbolo \":\" pode ser utilizado para que possamos pegar parte do nosso iterável\n",
    "\n",
    "# slicing\n",
    "\n",
    "print(numeros[5:8]) # pega os números entre 5 e 8, não incluindo o 5\n",
    "print(numeros[3:]) # pega todos os números a partir do 3, não incluindo o 3\n",
    "print(numeros[:7]) # pega todos os números até o 7, incluindo o 7\n",
    "\n",
    "# step\n",
    "\n",
    "print(numeros[::2]) # pega todos os itens mas pulando de dois em dois\n",
    "print(numeros[::-1]) # inverte a lista"
   ]
  }
 ],
 "metadata": {
  "kernelspec": {
   "display_name": "Python 3",
   "language": "python",
   "name": "python3"
  },
  "language_info": {
   "codemirror_mode": {
    "name": "ipython",
    "version": 3
   },
   "file_extension": ".py",
   "mimetype": "text/x-python",
   "name": "python",
   "nbconvert_exporter": "python",
   "pygments_lexer": "ipython3",
   "version": "3.11.0"
  },
  "orig_nbformat": 4
 },
 "nbformat": 4,
 "nbformat_minor": 2
}
