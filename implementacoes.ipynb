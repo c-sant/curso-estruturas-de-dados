{
 "cells": [
  {
   "cell_type": "markdown",
   "metadata": {},
   "source": [
    "## Lista Ligada"
   ]
  },
  {
   "cell_type": "code",
   "execution_count": 1,
   "metadata": {},
   "outputs": [
    {
     "name": "stdout",
     "output_type": "stream",
     "text": [
      "Lista vazia: []\n",
      "Lista no início: [1, 3, 5]\n",
      "Lista após inserção do 7: [1, 3, 5, 7]\n",
      "Lista após a remoção do 3: [1, 5, 7]\n",
      "Item na posição 1 da lista: 5\n"
     ]
    }
   ],
   "source": [
    "from implementations.linked_list import LinkedList\n",
    "\n",
    "linked_list = LinkedList()\n",
    "print(f\"Lista vazia: {linked_list}\\n\")\n",
    "\n",
    "linked_list = LinkedList([1, 3, 5])\n",
    "print(f\"Lista no início: {linked_list}\\n\")\n",
    "\n",
    "linked_list.append(7) # itens novos podem ser adicionados ao final da lista\n",
    "print(f\"Lista após inserção do 7: {linked_list}\\n\")\n",
    "\n",
    "linked_list.remove(3) # e podem ser removidos também\n",
    "print(f\"Lista após a remoção do 3: {linked_list}\\n\")\n",
    "\n",
    "print(f\"Item na posição 1 da lista: {linked_list[1]}\\n\") # a indexação é feita com um loop, portanto ela é O(n) "
   ]
  },
  {
   "cell_type": "markdown",
   "metadata": {},
   "source": [
    "## Pilha"
   ]
  },
  {
   "cell_type": "code",
   "execution_count": 8,
   "metadata": {},
   "outputs": [
    {
     "name": "stdout",
     "output_type": "stream",
     "text": [
      "Pilha vazia: []\n",
      "\n",
      "Pilha no início: [6, 4, 2]\n",
      "Item no topo da pilha: 6\n",
      "\n",
      "Pilha após adição do 8: [8, 6, 4, 2]\n",
      "Item no topo da pilha após adição do 8: 8\n",
      "\n",
      "Pilha após remoção do 8 e do 6: [4, 2]\n",
      "Item no topo da pilha após remoção do 8 e do 6: 4\n"
     ]
    }
   ],
   "source": [
    "from implementations.stack import Stack\n",
    "\n",
    "stack = Stack()\n",
    "print(f\"Pilha vazia: {stack}\\n\")\n",
    "\n",
    "stack = Stack([2, 4, 6])\n",
    "print(f\"Pilha no início: {stack}\")\n",
    "print(f\"Item no topo da pilha: {stack.top}\\n\")\n",
    "\n",
    "stack.push(8)\n",
    "print(f\"Pilha após adição do 8: {stack}\")\n",
    "print(f\"Item no topo da pilha após adição do 8: {stack.top}\\n\")\n",
    "\n",
    "stack.pop()\n",
    "stack.pop()\n",
    "print(f\"Pilha após remoção do 8 e do 6: {stack}\")\n",
    "print(f\"Item no topo da pilha após remoção do 8 e do 6: {stack.top}\")"
   ]
  },
  {
   "cell_type": "markdown",
   "metadata": {},
   "source": [
    "## Fila"
   ]
  },
  {
   "cell_type": "code",
   "execution_count": 5,
   "metadata": {},
   "outputs": [
    {
     "name": "stdout",
     "output_type": "stream",
     "text": [
      "Fila vazia: []\n",
      "\n",
      "Fila no início: [1, 2, 3]\n",
      "\n",
      "Item na frente da fila: 1\n",
      "Fila após adição do 4: [1, 2, 3, 4]\n",
      "Item à frente da fila após adição do 4: 1\n",
      "\n",
      "Fila após remoção do 1 e do 2: [3, 4]\n",
      "Primeiro item da fila após remoção do 1 e do 2: 3\n"
     ]
    }
   ],
   "source": [
    "from implementations.queue import Queue\n",
    "\n",
    "queue = Queue()\n",
    "print(f\"Fila vazia: {queue}\\n\")\n",
    "\n",
    "queue = Queue([1, 2, 3])\n",
    "print(f\"Fila no início: {queue}\")\n",
    "print(f\"Item na frente da fila: {queue.front}\\n\")\n",
    "\n",
    "queue.enqueue(4)\n",
    "print(f\"Fila após adição do 4: {queue}\")\n",
    "print(f\"Item à frente da fila após adição do 4: {queue.front}\\n\")\n",
    "\n",
    "queue.dequeue()\n",
    "queue.dequeue()\n",
    "print(f\"Fila após remoção do 1 e do 2: {queue}\")\n",
    "print(f\"Primeiro item da fila após remoção do 1 e do 2: {queue.front}\")"
   ]
  }
 ],
 "metadata": {
  "kernelspec": {
   "display_name": "Python 3",
   "language": "python",
   "name": "python3"
  },
  "language_info": {
   "codemirror_mode": {
    "name": "ipython",
    "version": 3
   },
   "file_extension": ".py",
   "mimetype": "text/x-python",
   "name": "python",
   "nbconvert_exporter": "python",
   "pygments_lexer": "ipython3",
   "version": "3.11.0"
  },
  "orig_nbformat": 4
 },
 "nbformat": 4,
 "nbformat_minor": 2
}
